{
  "nbformat": 4,
  "nbformat_minor": 0,
  "metadata": {
    "colab": {
      "provenance": [],
      "include_colab_link": true
    },
    "kernelspec": {
      "name": "python3",
      "display_name": "Python 3"
    },
    "language_info": {
      "name": "python"
    }
  },
  "cells": [
    {
      "cell_type": "markdown",
      "metadata": {
        "id": "view-in-github",
        "colab_type": "text"
      },
      "source": [
        "<a href=\"https://colab.research.google.com/github/N-harbi/Lab-4b-dictionary/blob/main/Dictionary.ipynb\" target=\"_parent\"><img src=\"https://colab.research.google.com/assets/colab-badge.svg\" alt=\"Open In Colab\"/></a>"
      ]
    },
    {
      "cell_type": "markdown",
      "source": [
        "# Dictionary in Python\n",
        "In Python, a dictionary is a built-in data structure that stores data in key-value pairs. It is an unordered, mutable (changeable) collection, where each key must be unique and immutable (e.g., string, number, or tuple), while the value can be of any data type.\n",
        "\n",
        "## Objective\n",
        "- Understand how to create dictionary in Python\n",
        "- Apply various methods on a dictionary\n",
        "- Troubleshoot dictionary\n",
        "\n",
        "## Prerequisite\n",
        "\n",
        "- Lists & tuples\n",
        "- Decision and loops\n",
        "- Input functions\n",
        "\n",
        "\n",
        "## What do you need to complete this exercise?\n",
        "\n",
        "You can perform this exercise in any Python IDE, including JupyterLab or Google Colab.\n"
      ],
      "metadata": {
        "id": "2ITy4ycVFXBq"
      }
    },
    {
      "cell_type": "markdown",
      "source": [
        "# 1. Creating and accessing dictionary\n",
        "\n",
        "1a) Create dictionary of your choice of keys and values. Create dictionary size of 10 elements."
      ],
      "metadata": {
        "id": "uQxH0KO0tsDc"
      }
    },
    {
      "cell_type": "code",
      "source": [
        "my_dict = {\n",
        "    \"name\": \"Abdi\",\n",
        "    \"age\": 30,\n",
        "    \"city\": \"San Diego\",\n",
        "    \"country\": \"USA\",\n",
        "    \"email\": \"abdi@gmail.com\",\n",
        "    \"phone\": \"193-754-8774\",\n",
        "    \"gender\": \"male\",\n",
        "    \"occupation\": \"Cybersecurity\",\n",
        "    \"company\": \"Cisco\",\n",
        "    \"monthly_salary\": 9000\n",
        "}\n",
        "print(my_dict)"
      ],
      "metadata": {
        "id": "rRTflD1C9mjt",
        "colab": {
          "base_uri": "https://localhost:8080/"
        },
        "outputId": "6bac33b5-d305-4127-8cb3-844df985497f"
      },
      "execution_count": 2,
      "outputs": [
        {
          "output_type": "stream",
          "name": "stdout",
          "text": [
            "{'name': 'Abdi', 'age': 30, 'city': 'San Diego', 'country': 'USA', 'email': 'abdi@gmail.com', 'phone': '193-754-8774', 'gender': 'male', 'occupation': 'Cybersecurity', 'company': 'Cisco', 'monthly_salary': 9000}\n"
          ]
        }
      ]
    },
    {
      "cell_type": "markdown",
      "source": [
        "1b. Take inputs from a user and add them in a dictionary called ```my_user_dict```\n",
        "\n",
        "Here is the example of an user input:\n",
        "\n",
        "SSN: 111-222-3333\n",
        "\n",
        "Name: Steve Hawkins\n",
        "\n",
        "The code continue to take user input and provide an option at the end of the user input; \"Do you want to continue (Y/N)\"\n",
        "\n",
        "Identify how many keys you need to create a dictionary.\n",
        "\n",
        "__Restrictions: Do not use functions and/or exceptions in this exercise__"
      ],
      "metadata": {
        "id": "0jkTuRdlA6sk"
      }
    },
    {
      "cell_type": "code",
      "source": [
        "my_user_dict = {}\n",
        "while True:\n",
        "    key = input(\"Enter key: \").strip()\n",
        "    value = input(\"Enter value: \").strip()\n",
        "    my_user_dict[key] = value\n",
        "    cont = input(\"Do you want to continue? (Y/N): \").strip().lower()\n",
        "    if cont == \"n\":\n",
        "        break\n",
        "print(\"\\nFinal Dictionary:\")\n",
        "print(my_user_dict)"
      ],
      "metadata": {
        "id": "8ZIVOfAMQt2Z"
      },
      "execution_count": null,
      "outputs": []
    },
    {
      "cell_type": "code",
      "source": [
        "# List of tuples where each tuple represents a key-value pair\n",
        "\n",
        "a = [(\"SSN\", \"111-222-3333\"), (\"Name\", \"Steve Hawkins\"), (\"Age\", \"29\")]\n",
        "my_user_dict = dict(a)\n",
        "print(my_user_dict)"
      ],
      "metadata": {
        "id": "cF0UyMIqQ8V3",
        "colab": {
          "base_uri": "https://localhost:8080/"
        },
        "outputId": "06b025c5-88d6-4d4c-f31b-8af96a193e69"
      },
      "execution_count": 16,
      "outputs": [
        {
          "output_type": "stream",
          "name": "stdout",
          "text": [
            "{'SSN': '111-222-3333', 'Name': 'Steve Hawkins', 'Age': '29'}\n"
          ]
        }
      ]
    },
    {
      "cell_type": "markdown",
      "source": [
        "1c. Based on the given tuple, create a code which checks for valid key & value pairs, and check for key duplication.\n",
        "\n",
        "The code should provide assistance to a user to correct the error. For key duplication, ask user to change the key\n",
        "\n",
        "__Restrictions: Do not use functions and/or exceptions in this exercise__"
      ],
      "metadata": {
        "id": "J6CAWQq0HBv6"
      }
    },
    {
      "cell_type": "code",
      "source": [
        "my_list = [\n",
        "    (\"Name\", \"Sarah Connor\"),\n",
        "    (\"Date of birth\", \"1 Jan 1980\"),\n",
        "     (\"Address\", \"1000 Black Mountain Drive\",92126),\n",
        "      (\"Name\", \"Jim Hawkins\")\n",
        "      ]"
      ],
      "metadata": {
        "id": "zhseVMcKL-89"
      },
      "execution_count": 14,
      "outputs": []
    },
    {
      "cell_type": "code",
      "source": [
        "my_dict = {}\n",
        "for item in my_list:\n",
        "  key = item[0]\n",
        "  value = \" \". join(map(str,item[1: ]))\n",
        "  while key in my_dict:\n",
        "    print(f\"Error: The key '{key}' already exists. Please enter a new key:\")\n",
        "    key = input(\"Enter a new key: \").strip()\n",
        "    my_dict[key] = value\n",
        "    print(\"\\nFinal Dictionary:\")\n",
        "    print(my_dict)\n"
      ],
      "metadata": {
        "id": "i8JboXu9AvCV"
      },
      "execution_count": 15,
      "outputs": []
    },
    {
      "cell_type": "markdown",
      "source": [
        "1d. Convert the following list into a dictionary. Automate the process by using the loop.\n",
        "\n",
        "__Restrictions: Do not use functions and/or exceptions in this exercise__"
      ],
      "metadata": {
        "id": "h7Jc8xH-JEmh"
      }
    },
    {
      "cell_type": "code",
      "source": [
        "my_list = [10012, \"Mango\", 43221, \"Gala apple\", 13421, \"Banana\", 10011, \"Watermelon\"]\n",
        "my_dict = {}\n",
        "for i in range(0, len(my_list),2):\n",
        "  key = my_list[i]\n",
        "  value = my_list[i+1]\n",
        "  my_dict[key] = value\n",
        "print(\"\\nFinal Dictionary:\")\n",
        "print(my_dict)"
      ],
      "metadata": {
        "id": "Nfv-ATQUKlW2",
        "colab": {
          "base_uri": "https://localhost:8080/"
        },
        "outputId": "6bbf2e85-2d7d-4cd4-f1a1-4996df58032e"
      },
      "execution_count": 3,
      "outputs": [
        {
          "output_type": "stream",
          "name": "stdout",
          "text": [
            "\n",
            "Final Dictionary:\n",
            "{10012: 'Mango', 43221: 'Gala apple', 13421: 'Banana', 10011: 'Watermelon'}\n"
          ]
        }
      ]
    },
    {
      "cell_type": "markdown",
      "source": [
        "1e. Use the following text and count the number of words using dictionary. Remember The or the counts as 2.\n",
        "\n",
        "**The tiger (Panthera tigris) is a large cat and a member of the genus Panthera native to Asia. It has a powerful, muscular body with a large head and paws, a long tail and orange fur with black, mostly vertical stripes. It is traditionally classified into nine recent subspecies, though some recognise only two subspecies, mainland Asian tigers and the island tigers of the Sunda Islands.**"
      ],
      "metadata": {
        "id": "lLeAeQwmSHWL"
      }
    },
    {
      "cell_type": "code",
      "source": [
        "text = \"\"\"The tiger (panthera tigris) is a large cat and a member of the genus pantheria\n",
        "native to asia. it has a powerful, muscular body with a large head and paws, a long tail\n",
        "and orange fur with black, mostly vertical stripes. it is traditionally classified into nine\n",
        "recent subspecies, though some recognise only two subspecies, mainland asian tigers and the\n",
        "island tigers of the sunda islands.\"\"\"\n",
        "import string\n",
        "text = text.lower()\n",
        "for p in string.punctuation:\n",
        "  text = text.replace(p, \"\")\n",
        "words = text.split()\n",
        "word_count = {}\n",
        "for word in words:\n",
        "  if word in [\"the\", \"or\"]:\n",
        "    word_count[word] = word_count.get(word, 0) + 2\n",
        "  else:\n",
        "    word_count[word] = word_count.get(word, 0) + 1\n",
        "import pandas as pd\n",
        "df = pd.DataFrame(word_count.items(), columns=[\"word\", \"count\"])\n",
        "df = df.sort_values(by=\"count\", ascending=False)\n",
        "print(df)"
      ],
      "metadata": {
        "colab": {
          "base_uri": "https://localhost:8080/"
        },
        "id": "kVbuzgqCjI2j",
        "outputId": "c24f32e8-529d-43cd-828a-cf49c830a7dd"
      },
      "execution_count": 18,
      "outputs": [
        {
          "output_type": "stream",
          "name": "stdout",
          "text": [
            "             word  count\n",
            "0             the      8\n",
            "5               a      5\n",
            "8             and      4\n",
            "4              is      2\n",
            "6           large      2\n",
            "45         tigers      2\n",
            "37     subspecies      2\n",
            "10             of      2\n",
            "21           with      2\n",
            "16             it      2\n",
            "31        stripes      1\n",
            "30       vertical      1\n",
            "32  traditionally      1\n",
            "33     classified      1\n",
            "34           into      1\n",
            "35           nine      1\n",
            "36         recent      1\n",
            "40      recognise      1\n",
            "38         though      1\n",
            "39           some      1\n",
            "28          black      1\n",
            "41           only      1\n",
            "42            two      1\n",
            "43       mainland      1\n",
            "44          asian      1\n",
            "46         island      1\n",
            "47          sunda      1\n",
            "29         mostly      1\n",
            "24           long      1\n",
            "27            fur      1\n",
            "26         orange      1\n",
            "2        panthera      1\n",
            "3          tigris      1\n",
            "7             cat      1\n",
            "9          member      1\n",
            "11          genus      1\n",
            "12      pantheria      1\n",
            "13         native      1\n",
            "14             to      1\n",
            "15           asia      1\n",
            "17            has      1\n",
            "18       powerful      1\n",
            "19       muscular      1\n",
            "20           body      1\n",
            "22           head      1\n",
            "23           paws      1\n",
            "1           tiger      1\n",
            "25           tail      1\n",
            "48        islands      1\n"
          ]
        }
      ]
    },
    {
      "cell_type": "markdown",
      "source": [
        "# 2. Troubleshooting"
      ],
      "metadata": {
        "id": "tJlIQIYjBPLX"
      }
    },
    {
      "cell_type": "code",
      "source": [
        "d_orig = {123:\"Coconut\"}\n",
        "d_copy = d_orig\n",
        "print(d_orig)\n",
        "print(d_copy)"
      ],
      "metadata": {
        "id": "70JnWsa6zE0M",
        "colab": {
          "base_uri": "https://localhost:8080/"
        },
        "outputId": "c7a0ba49-05a0-4451-e31b-fe9859009c77"
      },
      "execution_count": 9,
      "outputs": [
        {
          "output_type": "stream",
          "name": "stdout",
          "text": [
            "{123: 'Coconut'}\n",
            "{123: 'Coconut'}\n"
          ]
        }
      ]
    },
    {
      "cell_type": "markdown",
      "source": [
        "2a. Change the content of ```d_copy``` and make sure the content does not affect the ```d_orig``` dictionary. Verify using the code."
      ],
      "metadata": {
        "id": "eF1Xhaw4M1CG"
      }
    },
    {
      "cell_type": "code",
      "source": [
        "d_orig = {\"name\": \"Ali\", \"age\": 25, \"City\": \"San Diego\"}\n",
        "d_copy = d_orig.copy()\n",
        "d_copy[\"age\"] = 30\n",
        "print(\"Original Dictionary:\", d_orig)\n",
        "print(\"Modified copy:\", d_copy)"
      ],
      "metadata": {
        "id": "w93b1OeVNYuf",
        "colab": {
          "base_uri": "https://localhost:8080/"
        },
        "outputId": "e9c92806-b0da-40aa-ca1c-52c826c889e6"
      },
      "execution_count": 4,
      "outputs": [
        {
          "output_type": "stream",
          "name": "stdout",
          "text": [
            "Original Dictionary: {'name': 'Ali', 'age': 25, 'City': 'San Diego'}\n",
            "Modified copy: {'name': 'Ali', 'age': 30, 'City': 'San Diego'}\n"
          ]
        }
      ]
    },
    {
      "cell_type": "markdown",
      "source": [
        "2b. If it changes the content of the original dictionary, then propose how can you solve this problem."
      ],
      "metadata": {
        "id": "O0-uz6MdzJ4a"
      }
    },
    {
      "cell_type": "code",
      "source": [
        "import copy\n",
        "d_orig = {\"name\": \"Ali\", \"age\": 25, \"hobbies\": [\"reading\", \"swimming\"]}\n",
        "d_copy = copy.deepcopy(d_orig)\n",
        "d_copy[\"hobbies\"].append(\"painting\")\n",
        "print(\"Original Dictionary:\", d_orig)\n",
        "print(\"Modified copy:\", d_copy)"
      ],
      "metadata": {
        "id": "xyS0VVapNvEv",
        "colab": {
          "base_uri": "https://localhost:8080/"
        },
        "outputId": "77b857a1-480f-4820-fff6-15269d530d03"
      },
      "execution_count": 6,
      "outputs": [
        {
          "output_type": "stream",
          "name": "stdout",
          "text": [
            "Original Dictionary: {'name': 'Ali', 'age': 25, 'hobbies': ['reading', 'swimming']}\n",
            "Modified copy: {'name': 'Ali', 'age': 25, 'hobbies': ['reading', 'swimming', 'painting']}\n"
          ]
        }
      ]
    },
    {
      "cell_type": "markdown",
      "source": [
        "2c. Write a code that generates the following error and explain why there is such an error.\n",
        "```\n",
        "TypeError: unhashable type: 'list'\n",
        "```"
      ],
      "metadata": {
        "id": "6vXaWJBczn5u"
      }
    },
    {
      "cell_type": "code",
      "source": [
        "my_dict = {\n",
        "    (\"name\"): \"Ali\",\n",
        "    \"age\": 25\n",
        "}\n",
        "print(my_dict)"
      ],
      "metadata": {
        "id": "dUoHv95LOCYr",
        "colab": {
          "base_uri": "https://localhost:8080/"
        },
        "outputId": "5a2e4644-dcc8-4573-a1f2-aadfe687e179"
      },
      "execution_count": 8,
      "outputs": [
        {
          "output_type": "stream",
          "name": "stdout",
          "text": [
            "{'name': 'Ali', 'age': 25}\n"
          ]
        }
      ]
    },
    {
      "cell_type": "markdown",
      "source": [
        "## Challenges\n",
        "\n",
        "Please describe the challenges you faced during the exercise."
      ],
      "metadata": {
        "id": "xQzjxKdvvbyo"
      }
    },
    {
      "cell_type": "markdown",
      "source": [
        "i didn't face any challenge during this exercise."
      ],
      "metadata": {
        "id": "Jo1FDpeQ6Dz3"
      }
    },
    {
      "cell_type": "markdown",
      "source": [
        "Write your challenges here"
      ],
      "metadata": {
        "id": "qfJNpTB5EbY4"
      }
    }
  ]
}